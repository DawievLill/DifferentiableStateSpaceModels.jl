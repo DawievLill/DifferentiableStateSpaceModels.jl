{
 "cells": [
  {
   "cell_type": "code",
   "execution_count": 1,
   "metadata": {},
   "outputs": [
    {
     "name": "stderr",
     "output_type": "stream",
     "text": [
      "┌ Info: Found initial step size\n",
      "│   ϵ = 0.4\n",
      "└ @ Turing.Inference C:\\Users\\jesse\\.julia\\packages\\Turing\\dXPDh\\src\\inference\\hmc.jl:188\n",
      "┌ Warning: The current proposal will be rejected due to numerical error(s).\n",
      "│   isfinite.((θ, r, ℓπ, ℓκ)) = (true, false, false, false)\n",
      "└ @ AdvancedHMC C:\\Users\\jesse\\.julia\\packages\\AdvancedHMC\\MIxdK\\src\\hamiltonian.jl:47\n",
      "\u001b[32mSampling:   8%|████                                     |  ETA: 0:00:04\u001b[39m┌ Warning: The current proposal will be rejected due to numerical error(s).\n",
      "│   isfinite.((θ, r, ℓπ, ℓκ)) = (true, false, false, false)\n",
      "└ @ AdvancedHMC C:\\Users\\jesse\\.julia\\packages\\AdvancedHMC\\MIxdK\\src\\hamiltonian.jl:47\n",
      "\u001b[32mSampling:  68%|████████████████████████████             |  ETA: 0:00:02\u001b[39m┌ Warning: The current proposal will be rejected due to numerical error(s).\n",
      "│   isfinite.((θ, r, ℓπ, ℓκ)) = (true, false, false, false)\n",
      "└ @ AdvancedHMC C:\\Users\\jesse\\.julia\\packages\\AdvancedHMC\\MIxdK\\src\\hamiltonian.jl:47\n",
      "\u001b[32mSampling: 100%|█████████████████████████████████████████| Time: 0:00:04\u001b[39m\n"
     ]
    },
    {
     "name": "stdout",
     "output_type": "stream",
     "text": [
      "Sampling complete.  To view tensorboard logs, do `tensorboard --logdir runs`"
     ]
    }
   ],
   "source": [
    "using DifferentiableStateSpaceModels, LinearAlgebra, Optim, Turing, Zygote, BenchmarkTools, StatsPlots, TensorBoardLogger, Logging\n",
    "Turing.setadbackend(:zygote)\n",
    "\n",
    "using Turing: @addlogprob!\n",
    "# Create models from modules and then solve\n",
    "model_rbc = @include_example_module(Examples.rbc_observables_benchmark)\n",
    "\n",
    "use_tensorboard = true # Toggle to turn off tensorboard logging\n",
    "p_f = [0.7, 0.1, 0.01, sqrt(0.0001)]\n",
    "# Generate artificial data\n",
    "p = [0.4, 0.96]\n",
    "sol = generate_perturbation(model_rbc, p; p_f)\n",
    "T = 20\n",
    "ϵ = [randn(model_rbc.n_ϵ) for _ in 1:T]\n",
    "x0 = zeros(model_rbc.n_x)\n",
    "fake_z = solve(sol, x0, (0, T), LTI(); noise = ϵ).z\n",
    "\n",
    "## Turing model, Kalman filter\n",
    "@model function rbc_kalman(z, m, p_f, cache)\n",
    "    α ~ Uniform(0.2, 0.8)\n",
    "    β ~ Uniform(0.5, 0.99)\n",
    "    p = [α, β]\n",
    "    sol = generate_perturbation(m, p; p_f, cache)\n",
    "    if !(sol.retcode == :Success)\n",
    "        @addlogprob! -Inf\n",
    "        return\n",
    "    end\n",
    "    @addlogprob! solve(sol, sol.x_ergodic, (0, length(z)); observables = z).logpdf\n",
    "end\n",
    "\n",
    "turing_model = rbc_kalman(fake_z, model_rbc, p_f, allocate_cache(model_rbc))\n",
    "n_samples = 20\n",
    "n_adapts = 5\n",
    "δ = 0.65\n",
    "comment = \"kalman-s$(n_samples)-a$(n_adapts)-δ$(δ)\"\n",
    "callback = make_turing_callback(model_rbc; comment, use_tensorboard)  # pass any TuringLogger options\n",
    "chain = sample(turing_model, NUTS(n_adapts, δ), n_samples; progress = true, callback)\n",
    "log_turing_results(chain, callback)\n",
    "print(\"Sampling complete.  To view tensorboard logs, do `tensorboard --logdir runs`\")"
   ]
  },
  {
   "cell_type": "code",
   "execution_count": null,
   "metadata": {},
   "outputs": [],
   "source": []
  }
 ],
 "metadata": {
  "kernelspec": {
   "display_name": "Julia 1.6.1",
   "language": "julia",
   "name": "julia-1.6"
  },
  "language_info": {
   "file_extension": ".jl",
   "mimetype": "application/julia",
   "name": "julia",
   "version": "1.6.1"
  }
 },
 "nbformat": 4,
 "nbformat_minor": 4
}
